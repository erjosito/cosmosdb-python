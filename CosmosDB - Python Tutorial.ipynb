{
 "cells": [
  {
   "cell_type": "markdown",
   "metadata": {},
   "source": [
    "# Tutorial for Cosmos DB and Python for the SQL API\n",
    "\n",
    "As you probably know, [Cosmos DB](https://docs.microsoft.com/en-us/azure/cosmos-db/) is a globally distributed, multi-model database service in Azure that supports document, key-value, wide-column, and graph databases.\n",
    "\n",
    "Cosmos DB includes support for multiple Software Development Kits for programming languages such as Python. Multiple resources already exist that help to learn to use the Python SDK: \n",
    "\n",
    "* [Cosmos DB reference guide for the Python SDK](https://docs.microsoft.com/en-us/python/api/azure-cosmos/?view=azure-python)\n",
    "* [Cosmos DB samples with the Python SDK](https://github.com/Azure/azure-cosmos-python/blob/master/test/crud_tests.py)\n",
    "\n",
    "As opposed to documentation or code samples, Jupyter Notebooks offer a very interesting combination of rich text for explanations and pieces of code that can be executed independently from each other, which makes it ideal to learn a new technology.\n",
    "\n",
    "This notebook will go over the basic (and not so basic) concepts of using Cosmos DB with its Python SDK for the SQL API. You can run this repository from any system with Python 3.x, or using the free platform [Azure Notebooks](https://notebooks.azure.com/), where you have the option of importing Github repositories."
   ]
  },
  {
   "cell_type": "markdown",
   "metadata": {},
   "source": [
    "## Creating your Cosmos DB account\n",
    "\n",
    "All Cosmos databases are contained in a Cosmos DB account. You can create a Cosmos DB account in Azure using any Azure mechanism. In this notebook we will assume that you have installed the [Azure CLI](https://docs.microsoft.com/en-us/cli/azure/install-azure-cli?view=azure-cli-latest), and use it to create a new resource group and a Cosmos DB account. But first things first, you need to login to Azure, and select the subscription you want to use\""
   ]
  },
  {
   "cell_type": "code",
   "execution_count": 7,
   "metadata": {},
   "outputs": [
    {
     "name": "stdout",
     "output_type": "stream",
     "text": [
      "[\n",
      "  {\n",
      "    \"cloudName\": \"AzureCloud\",\n",
      "    \"id\": \"e7da9914-9b05-4891-893c-546cb7b0422e\",\n",
      "    \"isDefault\": true,\n",
      "    \"name\": \"Azure CXP FTA Internal Subscription JOMORE\",\n",
      "    \"state\": \"Enabled\",\n",
      "    \"tenantId\": \"72f988bf-86f1-41af-91ab-2d7cd011db47\",\n",
      "    \"user\": {\n",
      "      \"name\": \"jomore@microsoft.com\",\n",
      "      \"type\": \"user\"\n",
      "    }\n",
      "  },\n",
      "  {\n",
      "    \"cloudName\": \"AzureCloud\",\n",
      "    \"id\": \"3e78e84b-6750-44b9-9d57-d9bba935237a\",\n",
      "    \"isDefault\": false,\n",
      "    \"name\": \"MSDN JOMORE\",\n",
      "    \"state\": \"Enabled\",\n",
      "    \"tenantId\": \"72f988bf-86f1-41af-91ab-2d7cd011db47\",\n",
      "    \"user\": {\n",
      "      \"name\": \"jomore@microsoft.com\",\n",
      "      \"type\": \"user\"\n",
      "    }\n",
      "  },\n",
      "  {\n",
      "    \"cloudName\": \"AzureCloud\",\n",
      "    \"id\": \"333e402a-65a0-45a9-8e23-867ca146c290\",\n",
      "    \"isDefault\": false,\n",
      "    \"name\": \"Edge-ES-CI-Manual\",\n",
      "    \"state\": \"Enabled\",\n",
      "    \"tenantId\": \"72f988bf-86f1-41af-91ab-2d7cd011db47\",\n",
      "    \"user\": {\n",
      "      \"name\": \"jomore@microsoft.com\",\n",
      "      \"type\": \"user\"\n",
      "    }\n",
      "  },\n",
      "  {\n",
      "    \"cloudName\": \"AzureCloud\",\n",
      "    \"id\": \"64e355d7-997c-491d-b0c1-8414dccfcf42\",\n",
      "    \"isDefault\": false,\n",
      "    \"name\": \"Trey Research R&D Playground\",\n",
      "    \"state\": \"Enabled\",\n",
      "    \"tenantId\": \"72f988bf-86f1-41af-91ab-2d7cd011db47\",\n",
      "    \"user\": {\n",
      "      \"name\": \"jomore@microsoft.com\",\n",
      "      \"type\": \"user\"\n",
      "    }\n",
      "  },\n",
      "  {\n",
      "    \"cloudName\": \"AzureCloud\",\n",
      "    \"id\": \"dae41bd3-9db4-4b9b-943e-832b57cac828\",\n",
      "    \"isDefault\": false,\n",
      "    \"name\": \"Cosmos_WDG_Core_BnB_100348\",\n",
      "    \"state\": \"Enabled\",\n",
      "    \"tenantId\": \"72f988bf-86f1-41af-91ab-2d7cd011db47\",\n",
      "    \"user\": {\n",
      "      \"name\": \"jomore@microsoft.com\",\n",
      "      \"type\": \"user\"\n",
      "    }\n",
      "  },\n",
      "  {\n",
      "    \"cloudName\": \"AzureCloud\",\n",
      "    \"id\": \"a8183b2d-7a4c-45e9-8736-dac11b84ff14\",\n",
      "    \"isDefault\": false,\n",
      "    \"name\": \"Azure Stack Diagnostics CI and Production VaaS\",\n",
      "    \"state\": \"Enabled\",\n",
      "    \"tenantId\": \"72f988bf-86f1-41af-91ab-2d7cd011db47\",\n",
      "    \"user\": {\n",
      "      \"name\": \"jomore@microsoft.com\",\n",
      "      \"type\": \"user\"\n",
      "    }\n",
      "  },\n",
      "  {\n",
      "    \"cloudName\": \"AzureCloud\",\n",
      "    \"id\": \"e93d3ee6-fac1-412f-92d6-bfb379e81af2\",\n",
      "    \"isDefault\": false,\n",
      "    \"name\": \"Contoso IT \\u2013 SH360 \\u2013 Prod\",\n",
      "    \"state\": \"Enabled\",\n",
      "    \"tenantId\": \"72f988bf-86f1-41af-91ab-2d7cd011db47\",\n",
      "    \"user\": {\n",
      "      \"name\": \"jomore@microsoft.com\",\n",
      "      \"type\": \"user\"\n",
      "    }\n",
      "  },\n",
      "  {\n",
      "    \"cloudName\": \"AzureCloud\",\n",
      "    \"id\": \"e4272367-5645-4c4e-9c67-3b74b59a6982\",\n",
      "    \"isDefault\": false,\n",
      "    \"name\": \"Contoso IT - demo\",\n",
      "    \"state\": \"Enabled\",\n",
      "    \"tenantId\": \"72f988bf-86f1-41af-91ab-2d7cd011db47\",\n",
      "    \"user\": {\n",
      "      \"name\": \"jomore@microsoft.com\",\n",
      "      \"type\": \"user\"\n",
      "    }\n",
      "  },\n",
      "  {\n",
      "    \"cloudName\": \"AzureCloud\",\n",
      "    \"id\": \"35ad74f4-0b37-44a7-ba94-91b6ec6026cd\",\n",
      "    \"isDefault\": false,\n",
      "    \"name\": \"Contoso IT \\u2013 Retail - DevTest\",\n",
      "    \"state\": \"Enabled\",\n",
      "    \"tenantId\": \"72f988bf-86f1-41af-91ab-2d7cd011db47\",\n",
      "    \"user\": {\n",
      "      \"name\": \"jomore@microsoft.com\",\n",
      "      \"type\": \"user\"\n",
      "    }\n",
      "  },\n",
      "  {\n",
      "    \"cloudName\": \"AzureCloud\",\n",
      "    \"id\": \"66ee64da-2532-4d9a-a36b-d745327d20d9\",\n",
      "    \"isDefault\": false,\n",
      "    \"name\": \"Contoso Infra3\",\n",
      "    \"state\": \"Enabled\",\n",
      "    \"tenantId\": \"72f988bf-86f1-41af-91ab-2d7cd011db47\",\n",
      "    \"user\": {\n",
      "      \"name\": \"jomore@microsoft.com\",\n",
      "      \"type\": \"user\"\n",
      "    }\n",
      "  },\n",
      "  {\n",
      "    \"cloudName\": \"AzureCloud\",\n",
      "    \"id\": \"0ba674a6-9fde-43b4-8370-a7e16fdf0641\",\n",
      "    \"isDefault\": false,\n",
      "    \"name\": \"Contoso Infra1\",\n",
      "    \"state\": \"Enabled\",\n",
      "    \"tenantId\": \"72f988bf-86f1-41af-91ab-2d7cd011db47\",\n",
      "    \"user\": {\n",
      "      \"name\": \"jomore@microsoft.com\",\n",
      "      \"type\": \"user\"\n",
      "    }\n",
      "  },\n",
      "  {\n",
      "    \"cloudName\": \"AzureCloud\",\n",
      "    \"id\": \"00edfbf3-f815-41d1-9e7c-d61e5522b8bf\",\n",
      "    \"isDefault\": false,\n",
      "    \"name\": \"Contoso Dev_EUS\",\n",
      "    \"state\": \"Enabled\",\n",
      "    \"tenantId\": \"72f988bf-86f1-41af-91ab-2d7cd011db47\",\n",
      "    \"user\": {\n",
      "      \"name\": \"jomore@microsoft.com\",\n",
      "      \"type\": \"user\"\n",
      "    }\n",
      "  },\n",
      "  {\n",
      "    \"cloudName\": \"AzureCloud\",\n",
      "    \"id\": \"2f0675ce-dbad-46c5-8663-3c0e4740222b\",\n",
      "    \"isDefault\": false,\n",
      "    \"name\": \"Contoso Infra2\",\n",
      "    \"state\": \"Enabled\",\n",
      "    \"tenantId\": \"72f988bf-86f1-41af-91ab-2d7cd011db47\",\n",
      "    \"user\": {\n",
      "      \"name\": \"jomore@microsoft.com\",\n",
      "      \"type\": \"user\"\n",
      "    }\n",
      "  },\n",
      "  {\n",
      "    \"cloudName\": \"AzureCloud\",\n",
      "    \"id\": \"0745e7d2-1e06-4d9e-9b9b-f42442b8b92f\",\n",
      "    \"isDefault\": false,\n",
      "    \"name\": \"Contoso IT \\u2013 SH360 - DevTest\",\n",
      "    \"state\": \"Enabled\",\n",
      "    \"tenantId\": \"72f988bf-86f1-41af-91ab-2d7cd011db47\",\n",
      "    \"user\": {\n",
      "      \"name\": \"jomore@microsoft.com\",\n",
      "      \"type\": \"user\"\n",
      "    }\n",
      "  },\n",
      "  {\n",
      "    \"cloudName\": \"AzureCloud\",\n",
      "    \"id\": \"45f9252d-e27e-4ed8-ab4e-dc5054de13fa\",\n",
      "    \"isDefault\": false,\n",
      "    \"name\": \"Contoso IT - Retail - Prod\",\n",
      "    \"state\": \"Enabled\",\n",
      "    \"tenantId\": \"72f988bf-86f1-41af-91ab-2d7cd011db47\",\n",
      "    \"user\": {\n",
      "      \"name\": \"jomore@microsoft.com\",\n",
      "      \"type\": \"user\"\n",
      "    }\n",
      "  },\n",
      "  {\n",
      "    \"cloudName\": \"AzureCloud\",\n",
      "    \"id\": \"71578c6b-75ba-4865-8f52-3e66d70389fd\",\n",
      "    \"isDefault\": false,\n",
      "    \"name\": \"Contoso IT \\u2013 SH360 \\u2013 Pre-Prod\",\n",
      "    \"state\": \"Enabled\",\n",
      "    \"tenantId\": \"72f988bf-86f1-41af-91ab-2d7cd011db47\",\n",
      "    \"user\": {\n",
      "      \"name\": \"jomore@microsoft.com\",\n",
      "      \"type\": \"user\"\n",
      "    }\n",
      "  },\n",
      "  {\n",
      "    \"cloudName\": \"AzureCloud\",\n",
      "    \"id\": \"9472dc54-45db-406b-9c01-bba9fa0cbb3c\",\n",
      "    \"isDefault\": false,\n",
      "    \"name\": \"Contoso Dev_India\",\n",
      "    \"state\": \"Enabled\",\n",
      "    \"tenantId\": \"72f988bf-86f1-41af-91ab-2d7cd011db47\",\n",
      "    \"user\": {\n",
      "      \"name\": \"jomore@microsoft.com\",\n",
      "      \"type\": \"user\"\n",
      "    }\n",
      "  },\n",
      "  {\n",
      "    \"cloudName\": \"AzureCloud\",\n",
      "    \"id\": \"39925abc-0f37-4833-8650-4be7371fbac0\",\n",
      "    \"isDefault\": false,\n",
      "    \"name\": \"Azure CXP FTA Internal Subscription ABSHEIK\",\n",
      "    \"state\": \"Enabled\",\n",
      "    \"tenantId\": \"72f988bf-86f1-41af-91ab-2d7cd011db47\",\n",
      "    \"user\": {\n",
      "      \"name\": \"jomore@microsoft.com\",\n",
      "      \"type\": \"user\"\n",
      "    }\n",
      "  },\n",
      "  {\n",
      "    \"cloudName\": \"AzureCloud\",\n",
      "    \"id\": \"0445d6ee-7566-442a-b6f7-5599d825d90d\",\n",
      "    \"isDefault\": false,\n",
      "    \"name\": \"WANHealth - Prod\",\n",
      "    \"state\": \"Enabled\",\n",
      "    \"tenantId\": \"72f988bf-86f1-41af-91ab-2d7cd011db47\",\n",
      "    \"user\": {\n",
      "      \"name\": \"jomore@microsoft.com\",\n",
      "      \"type\": \"user\"\n",
      "    }\n",
      "  },\n",
      "  {\n",
      "    \"cloudName\": \"AzureCloud\",\n",
      "    \"id\": \"db67ee91-0665-44d4-b451-31faee93c5fd\",\n",
      "    \"isDefault\": false,\n",
      "    \"name\": \"Kubernetes Shared Tools - PROD\",\n",
      "    \"state\": \"Enabled\",\n",
      "    \"tenantId\": \"72f988bf-86f1-41af-91ab-2d7cd011db47\",\n",
      "    \"user\": {\n",
      "      \"name\": \"jomore@microsoft.com\",\n",
      "      \"type\": \"user\"\n",
      "    }\n",
      "  },\n",
      "  {\n",
      "    \"cloudName\": \"AzureCloud\",\n",
      "    \"id\": \"eb87f285-893a-4f0f-8c55-7b4f67b1d097\",\n",
      "    \"isDefault\": false,\n",
      "    \"name\": \"CAT_Eng\",\n",
      "    \"state\": \"Enabled\",\n",
      "    \"tenantId\": \"72f988bf-86f1-41af-91ab-2d7cd011db47\",\n",
      "    \"user\": {\n",
      "      \"name\": \"jomore@microsoft.com\",\n",
      "      \"type\": \"user\"\n",
      "    }\n",
      "  },\n",
      "  {\n",
      "    \"cloudName\": \"AzureCloud\",\n",
      "    \"id\": \"52a442a2-31e9-42f9-8e3e-4b27dbf82673\",\n",
      "    \"isDefault\": false,\n",
      "    \"name\": \"Core-ES-WorkManagement\",\n",
      "    \"state\": \"Enabled\",\n",
      "    \"tenantId\": \"72f988bf-86f1-41af-91ab-2d7cd011db47\",\n",
      "    \"user\": {\n",
      "      \"name\": \"jomore@microsoft.com\",\n",
      "      \"type\": \"user\"\n",
      "    }\n",
      "  },\n",
      "  {\n",
      "    \"cloudName\": \"AzureCloud\",\n",
      "    \"id\": \"09e61de1-461a-4d6f-8b5c-74e21a1f3b07\",\n",
      "    \"isDefault\": false,\n",
      "    \"name\": \"Trey Partner Lab 1\",\n",
      "    \"state\": \"Enabled\",\n",
      "    \"tenantId\": \"72f988bf-86f1-41af-91ab-2d7cd011db47\",\n",
      "    \"user\": {\n",
      "      \"name\": \"jomore@microsoft.com\",\n",
      "      \"type\": \"user\"\n",
      "    }\n",
      "  },\n",
      "  {\n",
      "    \"cloudName\": \"AzureCloud\",\n",
      "    \"id\": \"51f73f67-1f29-4120-863e-dd315f743fc1\",\n",
      "    \"isDefault\": false,\n",
      "    \"name\": \"Trey Partner Lab 2\",\n",
      "    \"state\": \"Enabled\",\n",
      "    \"tenantId\": \"72f988bf-86f1-41af-91ab-2d7cd011db47\",\n",
      "    \"user\": {\n",
      "      \"name\": \"jomore@microsoft.com\",\n",
      "      \"type\": \"user\"\n",
      "    }\n",
      "  },\n",
      "  {\n",
      "    \"cloudName\": \"AzureCloud\",\n",
      "    \"id\": \"d08df488-ca06-43c1-936c-23ed0a5126f4\",\n",
      "    \"isDefault\": false,\n",
      "    \"name\": \"Trey Research HR\",\n",
      "    \"state\": \"Enabled\",\n",
      "    \"tenantId\": \"72f988bf-86f1-41af-91ab-2d7cd011db47\",\n",
      "    \"user\": {\n",
      "      \"name\": \"jomore@microsoft.com\",\n",
      "      \"type\": \"user\"\n",
      "    }\n",
      "  },\n",
      "  {\n",
      "    \"cloudName\": \"AzureCloud\",\n",
      "    \"id\": \"73c0021f-a37d-433f-8baa-7450cb54eea6\",\n",
      "    \"isDefault\": false,\n",
      "    \"name\": \"Trey Research Epsilon Lab\",\n",
      "    \"state\": \"Enabled\",\n",
      "    \"tenantId\": \"72f988bf-86f1-41af-91ab-2d7cd011db47\",\n",
      "    \"user\": {\n",
      "      \"name\": \"jomore@microsoft.com\",\n",
      "      \"type\": \"user\"\n",
      "    }\n",
      "  },\n",
      "  {\n",
      "    \"cloudName\": \"AzureCloud\",\n",
      "    \"id\": \"586f1d47-9dd9-43d5-b196-6e28f8405ff8\",\n",
      "    \"isDefault\": false,\n",
      "    \"name\": \"Trey Research Alpha Lab\",\n",
      "    \"state\": \"Enabled\",\n",
      "    \"tenantId\": \"72f988bf-86f1-41af-91ab-2d7cd011db47\",\n",
      "    \"user\": {\n",
      "      \"name\": \"jomore@microsoft.com\",\n",
      "      \"type\": \"user\"\n",
      "    }\n",
      "  },\n",
      "  {\n",
      "    \"cloudName\": \"AzureCloud\",\n",
      "    \"id\": \"ed570627-0265-4620-bb42-bae06bcfa914\",\n",
      "    \"isDefault\": false,\n",
      "    \"name\": \"Trey Research Beta Lab\",\n",
      "    \"state\": \"Enabled\",\n",
      "    \"tenantId\": \"72f988bf-86f1-41af-91ab-2d7cd011db47\",\n",
      "    \"user\": {\n",
      "      \"name\": \"jomore@microsoft.com\",\n",
      "      \"type\": \"user\"\n",
      "    }\n",
      "  },\n",
      "  {\n",
      "    \"cloudName\": \"AzureCloud\",\n",
      "    \"id\": \"9ec51cfd-5ca7-4d76-8101-dd0a4abc5674\",\n",
      "    \"isDefault\": false,\n",
      "    \"name\": \"Trey Research Gamma Lab\",\n",
      "    \"state\": \"Enabled\",\n",
      "    \"tenantId\": \"72f988bf-86f1-41af-91ab-2d7cd011db47\",\n",
      "    \"user\": {\n",
      "      \"name\": \"jomore@microsoft.com\",\n",
      "      \"type\": \"user\"\n",
      "    }\n",
      "  },\n",
      "  {\n",
      "    \"cloudName\": \"AzureCloud\",\n",
      "    \"id\": \"2a69a0e2-4fd8-4ef0-867b-7ad107d3bdf4\",\n",
      "    \"isDefault\": false,\n",
      "    \"name\": \"Microsoft Azure\",\n",
      "    \"state\": \"Disabled\",\n",
      "    \"tenantId\": \"07ca331e-549a-4ec2-b976-5c2a3dc151ba\",\n",
      "    \"user\": {\n",
      "      \"name\": \"jomore@microsoft.com\",\n",
      "      \"type\": \"user\"\n",
      "    }\n",
      "  },\n",
      "  {\n",
      "    \"cloudName\": \"AzureCloud\",\n",
      "    \"id\": \"6e10131f-a0c5-4892-b4f8-00755a994568\",\n",
      "    \"isDefault\": false,\n",
      "    \"name\": \"Sitecore Installtion\",\n",
      "    \"state\": \"Enabled\",\n",
      "    \"tenantId\": \"462c29df-706e-49e4-9950-5411bfb9c775\",\n",
      "    \"user\": {\n",
      "      \"name\": \"jomore@microsoft.com\",\n",
      "      \"type\": \"user\"\n",
      "    }\n",
      "  },\n",
      "  {\n",
      "    \"cloudName\": \"AzureCloud\",\n",
      "    \"id\": \"3d56da41-8c39-4bba-a030-8b93cdc64e86\",\n",
      "    \"isDefault\": false,\n",
      "    \"name\": \"Pay-As-You-Go\",\n",
      "    \"state\": \"Enabled\",\n",
      "    \"tenantId\": \"ecd38d6d-544b-494c-9b29-ff3d6a31c040\",\n",
      "    \"user\": {\n",
      "      \"name\": \"jomore@microsoft.com\",\n",
      "      \"type\": \"user\"\n",
      "    }\n",
      "  }\n",
      "]\n"
     ]
    },
    {
     "name": "stderr",
     "output_type": "stream",
     "text": [
      "WARNING: Note, we have launched a browser for you to login. For old experience with device code, use \"az login --use-device-code\"\n",
      "WARNING: You have logged in. Now let us find all the subscriptions to which you have access...\n"
     ]
    }
   ],
   "source": [
    "!az login"
   ]
  },
  {
   "cell_type": "code",
   "execution_count": null,
   "metadata": {},
   "outputs": [],
   "source": [
    "!az account set -s \"your subscription name\""
   ]
  },
  {
   "cell_type": "markdown",
   "metadata": {},
   "source": [
    "We will now set some variables containing the name of the resource group we will use, the name of the Cosmos DB account to be created, the name for a database and for a collection. Consider that the name for your CosmosDB must be globally unique:"
   ]
  },
  {
   "cell_type": "code",
   "execution_count": 3,
   "metadata": {},
   "outputs": [],
   "source": [
    "rg         = \"cosmoslab\"\n",
    "location   = \"westeurope\"\n",
    "\n",
    "account    = \"mycosmos1138\"\n",
    "db_name    = \"ecommerce\"\n",
    "coll_name  = \"customers\""
   ]
  },
  {
   "cell_type": "markdown",
   "metadata": {},
   "source": [
    "And now we can create our resource group and Cosmos DB account. When creating the account there some attributes you can defined, such as the type of CosmosDB and API (in this case we will use the SQL API aka DocumentDB), the locations (in this example we will use only one region).\n",
    "\n",
    "Creating the account will take some minutes, please be patient."
   ]
  },
  {
   "cell_type": "code",
   "execution_count": 4,
   "metadata": {},
   "outputs": [
    {
     "name": "stdout",
     "output_type": "stream",
     "text": [
      "{\n",
      "  \"id\": \"/subscriptions/e7da9914-9b05-4891-893c-546cb7b0422e/resourceGroups/cosmoslab\",\n",
      "  \"location\": \"westeurope\",\n",
      "  \"managedBy\": null,\n",
      "  \"name\": \"cosmoslab\",\n",
      "  \"properties\": {\n",
      "    \"provisioningState\": \"Succeeded\"\n",
      "  },\n",
      "  \"tags\": null\n",
      "}\n",
      "{\n",
      "  \"capabilities\": [],\n",
      "  \"consistencyPolicy\": {\n",
      "    \"defaultConsistencyLevel\": \"Session\",\n",
      "    \"maxIntervalInSeconds\": 5,\n",
      "    \"maxStalenessPrefix\": 100\n",
      "  },\n",
      "  \"databaseAccountOfferType\": \"Standard\",\n",
      "  \"documentEndpoint\": \"https://mycosmos1138.documents.azure.com:443/\",\n",
      "  \"enableAutomaticFailover\": false,\n",
      "  \"failoverPolicies\": [\n",
      "    {\n",
      "      \"failoverPriority\": 0,\n",
      "      \"id\": \"mycosmos1138-westeurope\",\n",
      "      \"locationName\": \"West Europe\"\n",
      "    }\n",
      "  ],\n",
      "  \"id\": \"/subscriptions/e7da9914-9b05-4891-893c-546cb7b0422e/resourceGroups/cosmoslab/providers/Microsoft.DocumentDB/databaseAccounts/mycosmos1138\",\n",
      "  \"ipRangeFilter\": \"\",\n",
      "  \"isVirtualNetworkFilterEnabled\": false,\n",
      "  \"kind\": \"GlobalDocumentDB\",\n",
      "  \"location\": \"West Europe\",\n",
      "  \"name\": \"mycosmos1138\",\n",
      "  \"provisioningState\": \"Succeeded\",\n",
      "  \"readLocations\": [\n",
      "    {\n",
      "      \"documentEndpoint\": \"https://mycosmos1138-westeurope.documents.azure.com:443/\",\n",
      "      \"failoverPriority\": 0,\n",
      "      \"id\": \"mycosmos1138-westeurope\",\n",
      "      \"locationName\": \"West Europe\",\n",
      "      \"provisioningState\": \"Succeeded\"\n",
      "    }\n",
      "  ],\n",
      "  \"resourceGroup\": \"cosmoslab\",\n",
      "  \"tags\": {},\n",
      "  \"type\": \"Microsoft.DocumentDB/databaseAccounts\",\n",
      "  \"virtualNetworkRules\": [],\n",
      "  \"writeLocations\": [\n",
      "    {\n",
      "      \"documentEndpoint\": \"https://mycosmos1138-westeurope.documents.azure.com:443/\",\n",
      "      \"failoverPriority\": 0,\n",
      "      \"id\": \"mycosmos1138-westeurope\",\n",
      "      \"locationName\": \"West Europe\",\n",
      "      \"provisioningState\": \"Succeeded\"\n",
      "    }\n",
      "  ]\n",
      "}\n"
     ]
    }
   ],
   "source": [
    "!az group create -n \"$rg\" -l \"$location\"\n",
    "!az cosmosdb create -g \"$rg\" -n \"$account\" --locations \"$location\"=0 --kind GlobalDocumentDB"
   ]
  },
  {
   "cell_type": "markdown",
   "metadata": {},
   "source": [
    "## Modify Cosmos DB account\n",
    "\n",
    "After creating an account, you can modify it, for example to add new read or write regions. In this example we will add a second read region with a failover priority of 1:"
   ]
  },
  {
   "cell_type": "code",
   "execution_count": 5,
   "metadata": {},
   "outputs": [
    {
     "name": "stdout",
     "output_type": "stream",
     "text": [
      "{\n",
      "  \"capabilities\": [],\n",
      "  \"consistencyPolicy\": {\n",
      "    \"defaultConsistencyLevel\": \"Session\",\n",
      "    \"maxIntervalInSeconds\": 5,\n",
      "    \"maxStalenessPrefix\": 100\n",
      "  },\n",
      "  \"databaseAccountOfferType\": \"Standard\",\n",
      "  \"documentEndpoint\": \"https://mycosmos1138.documents.azure.com:443/\",\n",
      "  \"enableAutomaticFailover\": false,\n",
      "  \"failoverPolicies\": [\n",
      "    {\n",
      "      \"failoverPriority\": 0,\n",
      "      \"id\": \"mycosmos1138-westeurope\",\n",
      "      \"locationName\": \"West Europe\"\n",
      "    },\n",
      "    {\n",
      "      \"failoverPriority\": 1,\n",
      "      \"id\": \"mycosmos1138-northeurope\",\n",
      "      \"locationName\": \"North Europe\"\n",
      "    }\n",
      "  ],\n",
      "  \"id\": \"/subscriptions/e7da9914-9b05-4891-893c-546cb7b0422e/resourceGroups/cosmoslab/providers/Microsoft.DocumentDB/databaseAccounts/mycosmos1138\",\n",
      "  \"ipRangeFilter\": \"\",\n",
      "  \"isVirtualNetworkFilterEnabled\": false,\n",
      "  \"kind\": \"GlobalDocumentDB\",\n",
      "  \"location\": \"West Europe\",\n",
      "  \"name\": \"mycosmos1138\",\n",
      "  \"provisioningState\": \"Succeeded\",\n",
      "  \"readLocations\": [\n",
      "    {\n",
      "      \"documentEndpoint\": \"https://mycosmos1138-westeurope.documents.azure.com:443/\",\n",
      "      \"failoverPriority\": 0,\n",
      "      \"id\": \"mycosmos1138-westeurope\",\n",
      "      \"locationName\": \"West Europe\",\n",
      "      \"provisioningState\": \"Succeeded\"\n",
      "    },\n",
      "    {\n",
      "      \"documentEndpoint\": \"https://mycosmos1138-northeurope.documents.azure.com:443/\",\n",
      "      \"failoverPriority\": 1,\n",
      "      \"id\": \"mycosmos1138-northeurope\",\n",
      "      \"locationName\": \"North Europe\",\n",
      "      \"provisioningState\": \"Succeeded\"\n",
      "    }\n",
      "  ],\n",
      "  \"resourceGroup\": \"cosmoslab\",\n",
      "  \"tags\": {},\n",
      "  \"type\": \"Microsoft.DocumentDB/databaseAccounts\",\n",
      "  \"virtualNetworkRules\": [],\n",
      "  \"writeLocations\": [\n",
      "    {\n",
      "      \"documentEndpoint\": \"https://mycosmos1138-westeurope.documents.azure.com:443/\",\n",
      "      \"failoverPriority\": 0,\n",
      "      \"id\": \"mycosmos1138-westeurope\",\n",
      "      \"locationName\": \"West Europe\",\n",
      "      \"provisioningState\": \"Succeeded\"\n",
      "    }\n",
      "  ]\n",
      "}\n"
     ]
    }
   ],
   "source": [
    "!az cosmosdb update -g \"$rg\" -n \"$account\" --locations \"$location\"=0 northeurope=1"
   ]
  },
  {
   "cell_type": "markdown",
   "metadata": {},
   "source": [
    "## Authentication\n",
    "\n",
    "Authentication to a Cosmos DB account works using an account key. There are two account keys for key rotation. You can use the Azure CLI to get the key for an existing account, in this case we get the primary key:"
   ]
  },
  {
   "cell_type": "code",
   "execution_count": 19,
   "metadata": {},
   "outputs": [],
   "source": [
    "account_key = !az cosmosdb list-keys -g $rg -n $account --query primaryMasterKey -o tsv\n",
    "# Per default the output is a list, keep only the first item\n",
    "account_key = str(account_key[0])"
   ]
  },
  {
   "cell_type": "markdown",
   "metadata": {},
   "source": [
    "## Initialize the client\n",
    "\n",
    "You can create databases and collections using the Azure CLI too, or using the Python SDK already. Since this notebook is about Python, let us use the Python SDK already for this.\n",
    "\n",
    "The first thing we need is to initialize the client, with the Cosmos DB account endpoint (that you can derive from the name, or use the Azure CLI to find out), and the master key that we already got."
   ]
  },
  {
   "cell_type": "code",
   "execution_count": 21,
   "metadata": {},
   "outputs": [
    {
     "name": "stdout",
     "output_type": "stream",
     "text": [
      "https://mycosmos1138.documents.azure.com\n"
     ]
    }
   ],
   "source": [
    "# Option 1: Building the endpoint as a string\n",
    "cosmosdb_endpoint = \"https://{0}.documents.azure.com\".format(account)\n",
    "print(cosmosdb_endpoint)"
   ]
  },
  {
   "cell_type": "code",
   "execution_count": 25,
   "metadata": {},
   "outputs": [
    {
     "name": "stdout",
     "output_type": "stream",
     "text": [
      "https://mycosmos1138.documents.azure.com:443/\n"
     ]
    }
   ],
   "source": [
    "# Option 2: Getting the endpoint with the Azure CLI\n",
    "cosmosdb_endpoint = ! az cosmosdb show -g $rg -n $account --query documentEndpoint -o tsv\n",
    "cosmosdb_endpoint = str(cosmosdb_endpoint[0])\n",
    "print(cosmosdb_endpoint)"
   ]
  },
  {
   "cell_type": "markdown",
   "metadata": {},
   "source": [
    "Before initializaing the client, let us make sure that we have all required Python dependencies:"
   ]
  },
  {
   "cell_type": "code",
   "execution_count": 6,
   "metadata": {},
   "outputs": [
    {
     "name": "stdout",
     "output_type": "stream",
     "text": [
      "Requirement already satisfied: azure in c:\\users\\jomore\\appdata\\local\\continuum\\anaconda3\\envs\\ml\\lib\\site-packages (from -r requirements.txt (line 1)) (4.0.0)\n",
      "Collecting azure-cosmos (from -r requirements.txt (line 2))\n",
      "  Downloading https://files.pythonhosted.org/packages/a0/63/921bda96c1cf5cee4777a69fc0c13b44ff11a656dd8b88eb38818dc835d3/azure_cosmos-3.0.2-py3-none-any.whl (102kB)\n",
      "Requirement already satisfied: azure-servicebus~=0.21.1 in c:\\users\\jomore\\appdata\\local\\continuum\\anaconda3\\envs\\ml\\lib\\site-packages (from azure->-r requirements.txt (line 1)) (0.21.1)\n",
      "Requirement already satisfied: azure-loganalytics~=0.1.0 in c:\\users\\jomore\\appdata\\local\\continuum\\anaconda3\\envs\\ml\\lib\\site-packages (from azure->-r requirements.txt (line 1)) (0.1.0)\n",
      "Requirement already satisfied: azure-storage-queue~=1.3 in c:\\users\\jomore\\appdata\\local\\continuum\\anaconda3\\envs\\ml\\lib\\site-packages (from azure->-r requirements.txt (line 1)) (1.4.0)\n",
      "Requirement already satisfied: azure-applicationinsights~=0.1.0 in c:\\users\\jomore\\appdata\\local\\continuum\\anaconda3\\envs\\ml\\lib\\site-packages (from azure->-r requirements.txt (line 1)) (0.1.0)\n",
      "Requirement already satisfied: azure-graphrbac~=0.40.0 in c:\\users\\jomore\\appdata\\local\\continuum\\anaconda3\\envs\\ml\\lib\\site-packages (from azure->-r requirements.txt (line 1)) (0.40.0)\n",
      "Requirement already satisfied: azure-keyvault~=1.0 in c:\\users\\jomore\\appdata\\local\\continuum\\anaconda3\\envs\\ml\\lib\\site-packages (from azure->-r requirements.txt (line 1)) (1.1.0)\n",
      "Requirement already satisfied: azure-servicefabric~=6.3.0.0 in c:\\users\\jomore\\appdata\\local\\continuum\\anaconda3\\envs\\ml\\lib\\site-packages (from azure->-r requirements.txt (line 1)) (6.3.0.0)\n",
      "Requirement already satisfied: azure-storage-blob~=1.3 in c:\\users\\jomore\\appdata\\local\\continuum\\anaconda3\\envs\\ml\\lib\\site-packages (from azure->-r requirements.txt (line 1)) (1.4.0)\n",
      "Requirement already satisfied: azure-storage-file~=1.3 in c:\\users\\jomore\\appdata\\local\\continuum\\anaconda3\\envs\\ml\\lib\\site-packages (from azure->-r requirements.txt (line 1)) (1.4.0)\n",
      "Requirement already satisfied: azure-batch~=4.1 in c:\\users\\jomore\\appdata\\local\\continuum\\anaconda3\\envs\\ml\\lib\\site-packages (from azure->-r requirements.txt (line 1)) (4.1.3)\n",
      "Requirement already satisfied: azure-mgmt~=4.0 in c:\\users\\jomore\\appdata\\local\\continuum\\anaconda3\\envs\\ml\\lib\\site-packages (from azure->-r requirements.txt (line 1)) (4.0.0)\n",
      "Requirement already satisfied: azure-cosmosdb-table~=1.0 in c:\\users\\jomore\\appdata\\local\\continuum\\anaconda3\\envs\\ml\\lib\\site-packages (from azure->-r requirements.txt (line 1)) (1.0.5)\n",
      "Requirement already satisfied: azure-eventgrid~=1.1 in c:\\users\\jomore\\appdata\\local\\continuum\\anaconda3\\envs\\ml\\lib\\site-packages (from azure->-r requirements.txt (line 1)) (1.2.0)\n",
      "Requirement already satisfied: azure-datalake-store~=0.0.18 in c:\\users\\jomore\\appdata\\local\\continuum\\anaconda3\\envs\\ml\\lib\\site-packages (from azure->-r requirements.txt (line 1)) (0.0.39)\n",
      "Requirement already satisfied: azure-servicemanagement-legacy~=0.20.6 in c:\\users\\jomore\\appdata\\local\\continuum\\anaconda3\\envs\\ml\\lib\\site-packages (from azure->-r requirements.txt (line 1)) (0.20.6)\n",
      "Requirement already satisfied: requests>=2.10.0 in c:\\users\\jomore\\appdata\\local\\continuum\\anaconda3\\envs\\ml\\lib\\site-packages (from azure-cosmos->-r requirements.txt (line 2)) (2.20.1)\n",
      "Requirement already satisfied: six>=1.6 in c:\\users\\jomore\\appdata\\local\\continuum\\anaconda3\\envs\\ml\\lib\\site-packages (from azure-cosmos->-r requirements.txt (line 2)) (1.11.0)\n",
      "Requirement already satisfied: azure-common>=1.1.5 in c:\\users\\jomore\\appdata\\local\\continuum\\anaconda3\\envs\\ml\\lib\\site-packages (from azure-servicebus~=0.21.1->azure->-r requirements.txt (line 1)) (1.1.16)\n",
      "Requirement already satisfied: azure-nspkg>=2.0.0 in c:\\users\\jomore\\appdata\\local\\continuum\\anaconda3\\envs\\ml\\lib\\site-packages (from azure-servicebus~=0.21.1->azure->-r requirements.txt (line 1)) (3.0.2)\n",
      "Requirement already satisfied: msrest<2.0.0,>=0.4.29 in c:\\users\\jomore\\appdata\\local\\continuum\\anaconda3\\envs\\ml\\lib\\site-packages (from azure-loganalytics~=0.1.0->azure->-r requirements.txt (line 1)) (0.6.2)\n",
      "Requirement already satisfied: azure-storage-common~=1.4 in c:\\users\\jomore\\appdata\\local\\continuum\\anaconda3\\envs\\ml\\lib\\site-packages (from azure-storage-queue~=1.3->azure->-r requirements.txt (line 1)) (1.4.0)\n",
      "Requirement already satisfied: msrestazure<2.0.0,>=0.4.20 in c:\\users\\jomore\\appdata\\local\\continuum\\anaconda3\\envs\\ml\\lib\\site-packages (from azure-graphrbac~=0.40.0->azure->-r requirements.txt (line 1)) (0.5.1)\n",
      "Requirement already satisfied: cryptography>=2.1.4 in c:\\users\\jomore\\appdata\\local\\continuum\\anaconda3\\envs\\ml\\lib\\site-packages (from azure-keyvault~=1.0->azure->-r requirements.txt (line 1)) (2.4.2)\n",
      "Requirement already satisfied: azure-mgmt-datalake-analytics~=0.6.0 in c:\\users\\jomore\\appdata\\local\\continuum\\anaconda3\\envs\\ml\\lib\\site-packages (from azure-mgmt~=4.0->azure->-r requirements.txt (line 1)) (0.6.0)\n",
      "Requirement already satisfied: azure-mgmt-datamigration~=1.0 in c:\\users\\jomore\\appdata\\local\\continuum\\anaconda3\\envs\\ml\\lib\\site-packages (from azure-mgmt~=4.0->azure->-r requirements.txt (line 1)) (1.0.0)\n",
      "Requirement already satisfied: azure-mgmt-iotcentral~=0.1.0 in c:\\users\\jomore\\appdata\\local\\continuum\\anaconda3\\envs\\ml\\lib\\site-packages (from azure-mgmt~=4.0->azure->-r requirements.txt (line 1)) (0.1.0)\n",
      "Requirement already satisfied: azure-mgmt-eventgrid~=1.0 in c:\\users\\jomore\\appdata\\local\\continuum\\anaconda3\\envs\\ml\\lib\\site-packages (from azure-mgmt~=4.0->azure->-r requirements.txt (line 1)) (1.0.0)\n",
      "Requirement already satisfied: azure-mgmt-rdbms~=1.2 in c:\\users\\jomore\\appdata\\local\\continuum\\anaconda3\\envs\\ml\\lib\\site-packages (from azure-mgmt~=4.0->azure->-r requirements.txt (line 1)) (1.5.0)\n",
      "Requirement already satisfied: azure-mgmt-web~=0.35.0 in c:\\users\\jomore\\appdata\\local\\continuum\\anaconda3\\envs\\ml\\lib\\site-packages (from azure-mgmt~=4.0->azure->-r requirements.txt (line 1)) (0.35.0)\n",
      "Requirement already satisfied: azure-mgmt-billing~=0.2.0 in c:\\users\\jomore\\appdata\\local\\continuum\\anaconda3\\envs\\ml\\lib\\site-packages (from azure-mgmt~=4.0->azure->-r requirements.txt (line 1)) (0.2.0)\n",
      "Requirement already satisfied: azure-mgmt-media~=1.0.0rc2 in c:\\users\\jomore\\appdata\\local\\continuum\\anaconda3\\envs\\ml\\lib\\site-packages (from azure-mgmt~=4.0->azure->-r requirements.txt (line 1)) (1.0.0)\n",
      "Requirement already satisfied: azure-mgmt-dns~=2.0 in c:\\users\\jomore\\appdata\\local\\continuum\\anaconda3\\envs\\ml\\lib\\site-packages (from azure-mgmt~=4.0->azure->-r requirements.txt (line 1)) (2.1.0)\n",
      "Requirement already satisfied: azure-mgmt-datafactory~=0.6.0 in c:\\users\\jomore\\appdata\\local\\continuum\\anaconda3\\envs\\ml\\lib\\site-packages (from azure-mgmt~=4.0->azure->-r requirements.txt (line 1)) (0.6.0)\n",
      "Requirement already satisfied: azure-mgmt-logic~=3.0 in c:\\users\\jomore\\appdata\\local\\continuum\\anaconda3\\envs\\ml\\lib\\site-packages (from azure-mgmt~=4.0->azure->-r requirements.txt (line 1)) (3.0.0)\n",
      "Requirement already satisfied: azure-mgmt-iothub~=0.5.0 in c:\\users\\jomore\\appdata\\local\\continuum\\anaconda3\\envs\\ml\\lib\\site-packages (from azure-mgmt~=4.0->azure->-r requirements.txt (line 1)) (0.5.0)\n",
      "Requirement already satisfied: azure-mgmt-advisor~=1.0 in c:\\users\\jomore\\appdata\\local\\continuum\\anaconda3\\envs\\ml\\lib\\site-packages (from azure-mgmt~=4.0->azure->-r requirements.txt (line 1)) (1.0.1)\n",
      "Requirement already satisfied: azure-mgmt-relay~=0.1.0 in c:\\users\\jomore\\appdata\\local\\continuum\\anaconda3\\envs\\ml\\lib\\site-packages (from azure-mgmt~=4.0->azure->-r requirements.txt (line 1)) (0.1.0)\n",
      "Requirement already satisfied: azure-mgmt-managementgroups~=0.1.0 in c:\\users\\jomore\\appdata\\local\\continuum\\anaconda3\\envs\\ml\\lib\\site-packages (from azure-mgmt~=4.0->azure->-r requirements.txt (line 1)) (0.1.0)\n",
      "Requirement already satisfied: azure-mgmt-maps~=0.1.0 in c:\\users\\jomore\\appdata\\local\\continuum\\anaconda3\\envs\\ml\\lib\\site-packages (from azure-mgmt~=4.0->azure->-r requirements.txt (line 1)) (0.1.0)\n",
      "Requirement already satisfied: azure-mgmt-resource~=2.0 in c:\\users\\jomore\\appdata\\local\\continuum\\anaconda3\\envs\\ml\\lib\\site-packages (from azure-mgmt~=4.0->azure->-r requirements.txt (line 1)) (2.0.0)\n",
      "Requirement already satisfied: azure-mgmt-datalake-store~=0.5.0 in c:\\users\\jomore\\appdata\\local\\continuum\\anaconda3\\envs\\ml\\lib\\site-packages (from azure-mgmt~=4.0->azure->-r requirements.txt (line 1)) (0.5.0)\n",
      "Requirement already satisfied: azure-mgmt-batchai~=2.0 in c:\\users\\jomore\\appdata\\local\\continuum\\anaconda3\\envs\\ml\\lib\\site-packages (from azure-mgmt~=4.0->azure->-r requirements.txt (line 1)) (2.0.0)\n",
      "Requirement already satisfied: azure-mgmt-scheduler~=2.0 in c:\\users\\jomore\\appdata\\local\\continuum\\anaconda3\\envs\\ml\\lib\\site-packages (from azure-mgmt~=4.0->azure->-r requirements.txt (line 1)) (2.0.0)\n",
      "Requirement already satisfied: azure-mgmt-managementpartner~=0.1.0 in c:\\users\\jomore\\appdata\\local\\continuum\\anaconda3\\envs\\ml\\lib\\site-packages (from azure-mgmt~=4.0->azure->-r requirements.txt (line 1)) (0.1.0)\n",
      "Requirement already satisfied: azure-mgmt-servicebus~=0.5.1 in c:\\users\\jomore\\appdata\\local\\continuum\\anaconda3\\envs\\ml\\lib\\site-packages (from azure-mgmt~=4.0->azure->-r requirements.txt (line 1)) (0.5.3)\n",
      "Requirement already satisfied: azure-mgmt-policyinsights~=0.1.0 in c:\\users\\jomore\\appdata\\local\\continuum\\anaconda3\\envs\\ml\\lib\\site-packages (from azure-mgmt~=4.0->azure->-r requirements.txt (line 1)) (0.1.0)\n",
      "Requirement already satisfied: azure-mgmt-devtestlabs~=2.2 in c:\\users\\jomore\\appdata\\local\\continuum\\anaconda3\\envs\\ml\\lib\\site-packages (from azure-mgmt~=4.0->azure->-r requirements.txt (line 1)) (2.2.0)\n",
      "Requirement already satisfied: azure-mgmt-search~=2.0 in c:\\users\\jomore\\appdata\\local\\continuum\\anaconda3\\envs\\ml\\lib\\site-packages (from azure-mgmt~=4.0->azure->-r requirements.txt (line 1)) (2.0.0)\n",
      "Requirement already satisfied: azure-mgmt-cdn~=3.0 in c:\\users\\jomore\\appdata\\local\\continuum\\anaconda3\\envs\\ml\\lib\\site-packages (from azure-mgmt~=4.0->azure->-r requirements.txt (line 1)) (3.0.0)\n",
      "Requirement already satisfied: azure-mgmt-loganalytics~=0.2.0 in c:\\users\\jomore\\appdata\\local\\continuum\\anaconda3\\envs\\ml\\lib\\site-packages (from azure-mgmt~=4.0->azure->-r requirements.txt (line 1)) (0.2.0)\n",
      "Requirement already satisfied: azure-mgmt-marketplaceordering~=0.1.0 in c:\\users\\jomore\\appdata\\local\\continuum\\anaconda3\\envs\\ml\\lib\\site-packages (from azure-mgmt~=4.0->azure->-r requirements.txt (line 1)) (0.1.0)\n",
      "Requirement already satisfied: azure-mgmt-hanaonazure~=0.1.1 in c:\\users\\jomore\\appdata\\local\\continuum\\anaconda3\\envs\\ml\\lib\\site-packages (from azure-mgmt~=4.0->azure->-r requirements.txt (line 1)) (0.1.1)\n",
      "Requirement already satisfied: azure-mgmt-redis~=5.0 in c:\\users\\jomore\\appdata\\local\\continuum\\anaconda3\\envs\\ml\\lib\\site-packages (from azure-mgmt~=4.0->azure->-r requirements.txt (line 1)) (5.0.0)\n",
      "Requirement already satisfied: azure-mgmt-servicefabric~=0.2.0 in c:\\users\\jomore\\appdata\\local\\continuum\\anaconda3\\envs\\ml\\lib\\site-packages (from azure-mgmt~=4.0->azure->-r requirements.txt (line 1)) (0.2.0)\n",
      "Requirement already satisfied: azure-mgmt-compute~=4.0 in c:\\users\\jomore\\appdata\\local\\continuum\\anaconda3\\envs\\ml\\lib\\site-packages (from azure-mgmt~=4.0->azure->-r requirements.txt (line 1)) (4.3.1)\n",
      "Requirement already satisfied: azure-mgmt-cosmosdb~=0.4.1 in c:\\users\\jomore\\appdata\\local\\continuum\\anaconda3\\envs\\ml\\lib\\site-packages (from azure-mgmt~=4.0->azure->-r requirements.txt (line 1)) (0.4.1)\n",
      "Requirement already satisfied: azure-mgmt-recoveryservices~=0.3.0 in c:\\users\\jomore\\appdata\\local\\continuum\\anaconda3\\envs\\ml\\lib\\site-packages (from azure-mgmt~=4.0->azure->-r requirements.txt (line 1)) (0.3.0)\n",
      "Requirement already satisfied: azure-mgmt-reservations~=0.2.1 in c:\\users\\jomore\\appdata\\local\\continuum\\anaconda3\\envs\\ml\\lib\\site-packages (from azure-mgmt~=4.0->azure->-r requirements.txt (line 1)) (0.2.1)\n",
      "Requirement already satisfied: azure-mgmt-powerbiembedded~=2.0 in c:\\users\\jomore\\appdata\\local\\continuum\\anaconda3\\envs\\ml\\lib\\site-packages (from azure-mgmt~=4.0->azure->-r requirements.txt (line 1)) (2.0.0)\n",
      "Requirement already satisfied: azure-mgmt-machinelearningcompute~=0.4.1 in c:\\users\\jomore\\appdata\\local\\continuum\\anaconda3\\envs\\ml\\lib\\site-packages (from azure-mgmt~=4.0->azure->-r requirements.txt (line 1)) (0.4.1)\n",
      "Requirement already satisfied: azure-mgmt-msi~=0.2.0 in c:\\users\\jomore\\appdata\\local\\continuum\\anaconda3\\envs\\ml\\lib\\site-packages (from azure-mgmt~=4.0->azure->-r requirements.txt (line 1)) (0.2.0)\n",
      "Requirement already satisfied: azure-mgmt-consumption~=2.0 in c:\\users\\jomore\\appdata\\local\\continuum\\anaconda3\\envs\\ml\\lib\\site-packages (from azure-mgmt~=4.0->azure->-r requirements.txt (line 1)) (2.0.0)\n",
      "Requirement already satisfied: azure-mgmt-iothubprovisioningservices~=0.2.0 in c:\\users\\jomore\\appdata\\local\\continuum\\anaconda3\\envs\\ml\\lib\\site-packages (from azure-mgmt~=4.0->azure->-r requirements.txt (line 1)) (0.2.0)\n",
      "Requirement already satisfied: azure-mgmt-cognitiveservices~=3.0 in c:\\users\\jomore\\appdata\\local\\continuum\\anaconda3\\envs\\ml\\lib\\site-packages (from azure-mgmt~=4.0->azure->-r requirements.txt (line 1)) (3.0.0)\n",
      "Requirement already satisfied: azure-mgmt-trafficmanager~=0.50.0 in c:\\users\\jomore\\appdata\\local\\continuum\\anaconda3\\envs\\ml\\lib\\site-packages (from azure-mgmt~=4.0->azure->-r requirements.txt (line 1)) (0.50.0)\n",
      "Requirement already satisfied: azure-mgmt-recoveryservicesbackup~=0.3.0 in c:\\users\\jomore\\appdata\\local\\continuum\\anaconda3\\envs\\ml\\lib\\site-packages (from azure-mgmt~=4.0->azure->-r requirements.txt (line 1)) (0.3.0)\n",
      "Requirement already satisfied: azure-mgmt-batch~=5.0 in c:\\users\\jomore\\appdata\\local\\continuum\\anaconda3\\envs\\ml\\lib\\site-packages (from azure-mgmt~=4.0->azure->-r requirements.txt (line 1)) (5.0.1)\n",
      "Requirement already satisfied: azure-mgmt-keyvault~=1.0 in c:\\users\\jomore\\appdata\\local\\continuum\\anaconda3\\envs\\ml\\lib\\site-packages (from azure-mgmt~=4.0->azure->-r requirements.txt (line 1)) (1.1.0)\n",
      "Requirement already satisfied: azure-mgmt-sql~=0.9.1 in c:\\users\\jomore\\appdata\\local\\continuum\\anaconda3\\envs\\ml\\lib\\site-packages (from azure-mgmt~=4.0->azure->-r requirements.txt (line 1)) (0.9.1)\n",
      "Requirement already satisfied: azure-mgmt-commerce~=1.0 in c:\\users\\jomore\\appdata\\local\\continuum\\anaconda3\\envs\\ml\\lib\\site-packages (from azure-mgmt~=4.0->azure->-r requirements.txt (line 1)) (1.0.1)\n",
      "Requirement already satisfied: azure-mgmt-subscription~=0.2.0 in c:\\users\\jomore\\appdata\\local\\continuum\\anaconda3\\envs\\ml\\lib\\site-packages (from azure-mgmt~=4.0->azure->-r requirements.txt (line 1)) (0.2.0)\n",
      "Requirement already satisfied: azure-mgmt-applicationinsights~=0.1.1 in c:\\users\\jomore\\appdata\\local\\continuum\\anaconda3\\envs\\ml\\lib\\site-packages (from azure-mgmt~=4.0->azure->-r requirements.txt (line 1)) (0.1.1)\n",
      "Requirement already satisfied: azure-mgmt-notificationhubs~=2.0 in c:\\users\\jomore\\appdata\\local\\continuum\\anaconda3\\envs\\ml\\lib\\site-packages (from azure-mgmt~=4.0->azure->-r requirements.txt (line 1)) (2.0.0)\n",
      "Requirement already satisfied: azure-mgmt-containerservice~=4.2 in c:\\users\\jomore\\appdata\\local\\continuum\\anaconda3\\envs\\ml\\lib\\site-packages (from azure-mgmt~=4.0->azure->-r requirements.txt (line 1)) (4.3.0)\n",
      "Requirement already satisfied: azure-mgmt-signalr~=0.1.0 in c:\\users\\jomore\\appdata\\local\\continuum\\anaconda3\\envs\\ml\\lib\\site-packages (from azure-mgmt~=4.0->azure->-r requirements.txt (line 1)) (0.1.1)\n",
      "Requirement already satisfied: azure-mgmt-containerregistry~=2.1 in c:\\users\\jomore\\appdata\\local\\continuum\\anaconda3\\envs\\ml\\lib\\site-packages (from azure-mgmt~=4.0->azure->-r requirements.txt (line 1)) (2.4.0)\n",
      "Requirement already satisfied: azure-mgmt-monitor~=0.5.2 in c:\\users\\jomore\\appdata\\local\\continuum\\anaconda3\\envs\\ml\\lib\\site-packages (from azure-mgmt~=4.0->azure->-r requirements.txt (line 1)) (0.5.2)\n",
      "Requirement already satisfied: azure-mgmt-containerinstance~=1.0 in c:\\users\\jomore\\appdata\\local\\continuum\\anaconda3\\envs\\ml\\lib\\site-packages (from azure-mgmt~=4.0->azure->-r requirements.txt (line 1)) (1.4.0)\n",
      "Requirement already satisfied: azure-mgmt-network~=2.0 in c:\\users\\jomore\\appdata\\local\\continuum\\anaconda3\\envs\\ml\\lib\\site-packages (from azure-mgmt~=4.0->azure->-r requirements.txt (line 1)) (2.4.0)\n",
      "Requirement already satisfied: azure-mgmt-storage~=2.0 in c:\\users\\jomore\\appdata\\local\\continuum\\anaconda3\\envs\\ml\\lib\\site-packages (from azure-mgmt~=4.0->azure->-r requirements.txt (line 1)) (2.0.0)\n",
      "Requirement already satisfied: azure-mgmt-authorization~=0.50.0 in c:\\users\\jomore\\appdata\\local\\continuum\\anaconda3\\envs\\ml\\lib\\site-packages (from azure-mgmt~=4.0->azure->-r requirements.txt (line 1)) (0.50.0)\n",
      "Requirement already satisfied: azure-mgmt-devspaces~=0.1.0 in c:\\users\\jomore\\appdata\\local\\continuum\\anaconda3\\envs\\ml\\lib\\site-packages (from azure-mgmt~=4.0->azure->-r requirements.txt (line 1)) (0.1.0)\n",
      "Requirement already satisfied: azure-mgmt-eventhub~=2.1 in c:\\users\\jomore\\appdata\\local\\continuum\\anaconda3\\envs\\ml\\lib\\site-packages (from azure-mgmt~=4.0->azure->-r requirements.txt (line 1)) (2.2.0)\n",
      "Requirement already satisfied: azure-cosmosdb-nspkg>=2.0.0 in c:\\users\\jomore\\appdata\\local\\continuum\\anaconda3\\envs\\ml\\lib\\site-packages (from azure-cosmosdb-table~=1.0->azure->-r requirements.txt (line 1)) (2.0.2)\n",
      "Requirement already satisfied: python-dateutil in c:\\users\\jomore\\appdata\\local\\continuum\\anaconda3\\envs\\ml\\lib\\site-packages (from azure-cosmosdb-table~=1.0->azure->-r requirements.txt (line 1)) (2.7.5)\n",
      "Requirement already satisfied: adal>=0.4.2 in c:\\users\\jomore\\appdata\\local\\continuum\\anaconda3\\envs\\ml\\lib\\site-packages (from azure-datalake-store~=0.0.18->azure->-r requirements.txt (line 1)) (1.2.0)\n",
      "Requirement already satisfied: cffi in c:\\users\\jomore\\appdata\\local\\continuum\\anaconda3\\envs\\ml\\lib\\site-packages (from azure-datalake-store~=0.0.18->azure->-r requirements.txt (line 1)) (1.11.5)\n",
      "Requirement already satisfied: chardet<3.1.0,>=3.0.2 in c:\\users\\jomore\\appdata\\local\\continuum\\anaconda3\\envs\\ml\\lib\\site-packages (from requests>=2.10.0->azure-cosmos->-r requirements.txt (line 2)) (3.0.4)\n",
      "Requirement already satisfied: certifi>=2017.4.17 in c:\\users\\jomore\\appdata\\local\\continuum\\anaconda3\\envs\\ml\\lib\\site-packages (from requests>=2.10.0->azure-cosmos->-r requirements.txt (line 2)) (2018.8.24)\n",
      "Requirement already satisfied: idna<2.8,>=2.5 in c:\\users\\jomore\\appdata\\local\\continuum\\anaconda3\\envs\\ml\\lib\\site-packages (from requests>=2.10.0->azure-cosmos->-r requirements.txt (line 2)) (2.7)\n",
      "Requirement already satisfied: urllib3<1.25,>=1.21.1 in c:\\users\\jomore\\appdata\\local\\continuum\\anaconda3\\envs\\ml\\lib\\site-packages (from requests>=2.10.0->azure-cosmos->-r requirements.txt (line 2)) (1.23)\n",
      "Requirement already satisfied: requests-oauthlib>=0.5.0 in c:\\users\\jomore\\appdata\\local\\continuum\\anaconda3\\envs\\ml\\lib\\site-packages (from msrest<2.0.0,>=0.4.29->azure-loganalytics~=0.1.0->azure->-r requirements.txt (line 1)) (1.0.0)\n",
      "Requirement already satisfied: isodate>=0.6.0 in c:\\users\\jomore\\appdata\\local\\continuum\\anaconda3\\envs\\ml\\lib\\site-packages (from msrest<2.0.0,>=0.4.29->azure-loganalytics~=0.1.0->azure->-r requirements.txt (line 1)) (0.6.0)\n",
      "Requirement already satisfied: asn1crypto>=0.21.0 in c:\\users\\jomore\\appdata\\local\\continuum\\anaconda3\\envs\\ml\\lib\\site-packages (from cryptography>=2.1.4->azure-keyvault~=1.0->azure->-r requirements.txt (line 1)) (0.24.0)\n",
      "Requirement already satisfied: azure-mgmt-datalake-nspkg>=2.0.0 in c:\\users\\jomore\\appdata\\local\\continuum\\anaconda3\\envs\\ml\\lib\\site-packages (from azure-mgmt-datalake-analytics~=0.6.0->azure-mgmt~=4.0->azure->-r requirements.txt (line 1)) (3.0.1)\n",
      "Requirement already satisfied: azure-mgmt-nspkg>=2.0.0 in c:\\users\\jomore\\appdata\\local\\continuum\\anaconda3\\envs\\ml\\lib\\site-packages (from azure-mgmt-datamigration~=1.0->azure-mgmt~=4.0->azure->-r requirements.txt (line 1)) (3.0.2)\n",
      "Requirement already satisfied: PyJWT>=1.0.0 in c:\\users\\jomore\\appdata\\local\\continuum\\anaconda3\\envs\\ml\\lib\\site-packages (from adal>=0.4.2->azure-datalake-store~=0.0.18->azure->-r requirements.txt (line 1)) (1.6.4)\n",
      "Requirement already satisfied: pycparser in c:\\users\\jomore\\appdata\\local\\continuum\\anaconda3\\envs\\ml\\lib\\site-packages (from cffi->azure-datalake-store~=0.0.18->azure->-r requirements.txt (line 1)) (2.19)\n",
      "Requirement already satisfied: oauthlib>=0.6.2 in c:\\users\\jomore\\appdata\\local\\continuum\\anaconda3\\envs\\ml\\lib\\site-packages (from requests-oauthlib>=0.5.0->msrest<2.0.0,>=0.4.29->azure-loganalytics~=0.1.0->azure->-r requirements.txt (line 1)) (2.1.0)\n",
      "Installing collected packages: azure-cosmos\n",
      "Successfully installed azure-cosmos-3.0.2\n"
     ]
    },
    {
     "name": "stderr",
     "output_type": "stream",
     "text": [
      "You are using pip version 18.1, however version 19.1 is available.\n",
      "You should consider upgrading via the 'python -m pip install --upgrade pip' command.\n"
     ]
    }
   ],
   "source": [
    "!pip install -r requirements.txt"
   ]
  },
  {
   "cell_type": "code",
   "execution_count": 26,
   "metadata": {},
   "outputs": [],
   "source": [
    "import azure.cosmos.cosmos_client as cosmos_client\n",
    "\n",
    "client = cosmos_client.CosmosClient(url_connection=cosmosdb_endpoint, auth={'masterKey': account_key})"
   ]
  },
  {
   "cell_type": "markdown",
   "metadata": {},
   "source": [
    "## Create Database and Collection\n",
    "\n",
    "With an initialized client we can now create a database and a collection. Note that you can allocate a performance to the database or to the collection. In this example we will allocate the minimum allowed performance (400 RU/s) to the collection.\n",
    "\n",
    "See the reference guide for the [createDatabase method](https://docs.microsoft.com/en-us/python/api/azure-cosmos/azure.cosmos.cosmos_client.cosmosclient?view=azure-python#createdatabase-database--options-none-) and for the [createContainer method](https://docs.microsoft.com/en-us/python/api/azure-cosmos/azure.cosmos.cosmos_client.cosmosclient?view=azure-python#createcontainer-database-link--collection--options-none-).\n",
    "\n",
    "Note how when creating a container (called \"collection\" for document-based schemas) you specify some attributes as part as the collection definition (such as the partition key or the indexing), and others as options (such as the throughput)."
   ]
  },
  {
   "cell_type": "code",
   "execution_count": 27,
   "metadata": {},
   "outputs": [],
   "source": [
    "database_definition = { 'id': db_name }\n",
    "created_db = client.CreateDatabase(database_definition)\n",
    "db_link=created_db['_self']"
   ]
  },
  {
   "cell_type": "code",
   "execution_count": 28,
   "metadata": {},
   "outputs": [
    {
     "name": "stdout",
     "output_type": "stream",
     "text": [
      "Collection customers has been created\n"
     ]
    }
   ],
   "source": [
    "# Before creating the collection, this code makes sure it does not exist before\n",
    "# Otherwise it gives out an error, that you could grab in a try/catch block as well\n",
    "coll_query = \"select * from r where r.id = '{0}'\".format(coll_name)\n",
    "coll = list(client.QueryContainers(db_link, coll_query))\n",
    "if coll:\n",
    "    print(\"Collection\", coll_name, \"already exists\")\n",
    "else:\n",
    "    collection_definition = {\n",
    "        'id': coll_name, \n",
    "        'indexingPolicy': {'indexingMode': 'consistent'},\n",
    "        'partitionKey': {\n",
    "            'paths': [\n",
    "              '/id'\n",
    "            ],\n",
    "            'kind': 'Hash'\n",
    "        }\n",
    "    }\n",
    "    collection_options = { 'offerThroughput': 400 }\n",
    "    created_collection = client.CreateContainer(created_db['_self'], collection_definition, collection_options)\n",
    "    print(\"Collection\", coll_name, \"has been created\")"
   ]
  },
  {
   "cell_type": "markdown",
   "metadata": {},
   "source": [
    "## Get an existing database or collection\n",
    "\n",
    "If you are working with an existing database or collection, you just need to retrieve them. The retrieved object will have an s_id field that you can use to verify whether the database and collections where found or not."
   ]
  },
  {
   "cell_type": "code",
   "execution_count": 29,
   "metadata": {},
   "outputs": [
    {
     "name": "stdout",
     "output_type": "stream",
     "text": [
      "Database ecommerce found\n",
      "Collection customers found:\n",
      " - Indexing policy - Mode: consistent\n",
      " - Indexing policy - Mode: True\n",
      " - Conflict resolution policy mode: LastWriterWins\n"
     ]
    }
   ],
   "source": [
    "# Get the DB link\n",
    "db_query = \"select * from r where r.id = '{0}'\".format(db_name)\n",
    "db = list(client.QueryDatabases(db_query))\n",
    "if db:\n",
    "    db_link = db[0]['_self']\n",
    "    print(\"Database\", db_name, \"found\")\n",
    "    # Uncomment the next line to see the full object\n",
    "    # print(db[0])\n",
    "\n",
    "    # If the database has been found, try to find the collection\n",
    "    coll_query = \"select * from r where r.id = '{0}'\".format(coll_name)\n",
    "    coll = list(client.QueryContainers(db_link, coll_query))\n",
    "    if coll:\n",
    "        coll_link = coll[0]['_self']\n",
    "        print(\"Collection\", coll_name, \"found:\")\n",
    "        print(\" - Indexing policy - Mode:\", coll[0]['indexingPolicy']['indexingMode'])\n",
    "        print(\" - Indexing policy - Mode:\", coll[0]['indexingPolicy']['automatic'])\n",
    "        print(\" - Conflict resolution policy mode:\", coll[0]['conflictResolutionPolicy']['mode'])\n",
    "        # Uncomment the next line to see the full object\n",
    "        # print(coll[0])\n",
    "    else:\n",
    "        print(\"Collection\", coll_name, \"not found :(\")\n",
    "else:\n",
    "    print(\"Database\", db_name, \"not found :(\")\n"
   ]
  },
  {
   "cell_type": "markdown",
   "metadata": {},
   "source": [
    "Alternatively to the QueryContainers method, you can craft manually a collection link with the database and collection names, and use the method ReadCollection:"
   ]
  },
  {
   "cell_type": "code",
   "execution_count": 69,
   "metadata": {},
   "outputs": [
    {
     "name": "stdout",
     "output_type": "stream",
     "text": [
      "dbs/ecommerce/colls/customers/\n",
      "{'id': 'customers', 'indexingPolicy': {'indexingMode': 'consistent', 'automatic': True, 'includedPaths': [{'path': '/*', 'indexes': [{'kind': 'Range', 'dataType': 'Number', 'precision': -1}, {'kind': 'Range', 'dataType': 'String', 'precision': -1}]}], 'excludedPaths': [{'path': '/\"_etag\"/?'}]}, 'partitionKey': {'paths': ['/id'], 'kind': 'Hash', 'systemKey': False}, 'conflictResolutionPolicy': {'mode': 'LastWriterWins', 'conflictResolutionPath': '/_ts', 'conflictResolutionProcedure': ''}, 'geospatialConfig': {'type': 'Geography'}, '_rid': 'xV1rAOWWurk=', '_ts': 1556489716, '_self': 'dbs/xV1rAA==/colls/xV1rAOWWurk=/', '_etag': '\"00009107-0000-0d00-0000-5cc625f40000\"', '_docs': 'docs/', '_sprocs': 'sprocs/', '_triggers': 'triggers/', '_udfs': 'udfs/', '_conflicts': 'conflicts/'}\n"
     ]
    }
   ],
   "source": [
    "coll_link='dbs/{0}/colls/{1}/'.format(db_name, coll_name)\n",
    "print(\"Collection link:\", coll_link)\n",
    "collection = client.ReadContainer(coll_link)\n",
    "print(collection)"
   ]
  },
  {
   "cell_type": "markdown",
   "metadata": {},
   "source": [
    "## Deleting an existing database or collection\n",
    "\n",
    "If you want to play with the different options to create a collection, you can modify most of its attributes, with the notable exception of the partition key. If you need to try the commands above with different options you might have to delete the collection first."
   ]
  },
  {
   "cell_type": "code",
   "execution_count": 45,
   "metadata": {},
   "outputs": [
    {
     "name": "stdout",
     "output_type": "stream",
     "text": [
      "Collection customers has been deleted\n"
     ]
    }
   ],
   "source": [
    "# Delete only a specific collection\n",
    "coll_query = \"select * from r where r.id = '{0}'\".format(coll_name)\n",
    "coll = list(client.QueryContainers(db_link, coll_query))\n",
    "if coll:\n",
    "    coll_link = coll[0]['_self']\n",
    "    client.DeleteContainer(coll_link)\n",
    "    print(\"Collection\", coll_name, \"has been deleted\")\n",
    "else:\n",
    "    print(\"Collection\", coll_name, \"could not be found\")"
   ]
  },
  {
   "cell_type": "code",
   "execution_count": 25,
   "metadata": {},
   "outputs": [
    {
     "name": "stdout",
     "output_type": "stream",
     "text": [
      "Database ecommerce and all its collections have been deleted\n"
     ]
    }
   ],
   "source": [
    "# If the DB exists, delete it (including any collections)\n",
    "db_query = \"select * from r where r.id = '{0}'\".format(db_name)\n",
    "db = list(client.QueryDatabases(db_query))\n",
    "if db:\n",
    "    db_link = db[0]['_self']\n",
    "    client.DeleteDatabase(db_link)\n",
    "    print(\"Database\", db_name, \"and all its collections have been deleted\")\n",
    "else:\n",
    "    print(\"Database\", db_name, \"could not be found\")"
   ]
  },
  {
   "cell_type": "markdown",
   "metadata": {},
   "source": [
    "## Updating the RUs of an existing collection\n",
    "\n",
    "You might want to update the performance (throughput) of your collection under certain circumstances, for example occasionally to perform a performance-intensive operation such as a data import or export, or just because you need more performance on your database on a consistent basis.\n",
    "\n",
    "To read the current throughput of an existing collection you can use the QueryOffers method, and update it with the ReplaceOffers method."
   ]
  },
  {
   "cell_type": "code",
   "execution_count": 65,
   "metadata": {},
   "outputs": [
    {
     "name": "stdout",
     "output_type": "stream",
     "text": [
      "Collection customers found provisioned with 500 RU/s\n"
     ]
    }
   ],
   "source": [
    "coll_query = \"select * from r where r.id = '{0}'\".format(coll_name)\n",
    "coll = list(client.QueryContainers(db_link, coll_query))\n",
    "if coll:\n",
    "    # We found our collection, get the link and find the offers\n",
    "    coll_link = coll[0]['_self']\n",
    "    offer = list(client.QueryOffers('SELECT * FROM c WHERE c.resource = \\'{0}\\''.format(coll_link)))[0]\n",
    "    print(\"Collection\", coll_name, \"found provisioned with\", str(offer['content']['offerThroughput']), \"RU/s\")\n",
    "else:\n",
    "    print(\"Collection\", coll_name, \"not found\")"
   ]
  },
  {
   "cell_type": "code",
   "execution_count": 64,
   "metadata": {},
   "outputs": [],
   "source": [
    "new_offer = offer\n",
    "new_offer['content']['offerThroughput'] += 50\n",
    "throughput = new_offer['content']['offerThroughput']\n",
    "if (throughput >= 400) and (throughput <= 100000) and ((throughput % 100) == 0): \n",
    "    offer = client.ReplaceOffer(offer['_self'], new_offer)\n",
    "else:\n",
    "    print(throughput, \"is not a valid throughput for Cosmos DB\")"
   ]
  },
  {
   "cell_type": "markdown",
   "metadata": {},
   "source": [
    "## Create documents\n",
    "\n",
    "You can use the Python SDK to create new documents in our collection. For this we will use some sample documents, that are used as well in the [EDX course for Cosmos DB](https://courses.edx.org/courses/course-v1:Microsoft+DAT237x+2T2017/course/). In that course these documents are used to illustrate the .NET API, we will use them here for the Python SDK.\n",
    "\n",
    "The function insert_item supports a \"pretrigger\" argument, please ignore it for the time being (we will come back to it later in this tutorial)."
   ]
  },
  {
   "cell_type": "code",
   "execution_count": 31,
   "metadata": {},
   "outputs": [
    {
     "name": "stdout",
     "output_type": "stream",
     "text": [
      "50 documents added\n"
     ]
    }
   ],
   "source": [
    "import json\n",
    "\n",
    "# Single add\n",
    "def insert_item(client, coll_link, item, pretrigger=None):\n",
    "    options={}\n",
    "    if pretrigger:\n",
    "        options['preTriggerInclude'] = pretrigger\n",
    "    client.CreateItem(coll_link, item, options)\n",
    "\n",
    "# Add all documents in a specific folder\n",
    "def insert_items_batch(client, coll_link, data_dir):\n",
    "    jsonpath = os.path.join(os.getcwd(), data_dir)\n",
    "    counter=0\n",
    "    for file in os.listdir(jsonpath):\n",
    "        if file[-5:] == \".json\":\n",
    "            #print(\"Found json file\", file)\n",
    "            f=open(os.path.join(jsonpath, file), 'r')\n",
    "            item_json = f.read()\n",
    "            item = json.loads(item_json)\n",
    "            insert_item(client, coll_link, item)\n",
    "            counter += 1\n",
    "        else:\n",
    "            print(\"Non-JSON file found:\", file)\n",
    "    print(counter, \"documents added\")\n",
    "\n",
    "insert_items_batch(client, coll_link, 'data')"
   ]
  },
  {
   "cell_type": "markdown",
   "metadata": {},
   "source": [
    "## Querying documents\n",
    "\n",
    "Now that we have some data in the collection, we can start running some queries. Let us start with something simple. As you can see, the send_query function supports defining query options, we will see those in a minute. See the reference documentation for the [QueryItems](https://docs.microsoft.com/en-us/python/api/azure-cosmos/azure.cosmos.cosmos_client.cosmosclient?view=azure-python#queryitems-database-or-container-link--query--options-none--partition-key-none-) method for more information.\n",
    "\n",
    "In the example below, for output clarity the send_query function has an optional toggle that can be used to hide the actual results, and print only the number of matching documents, as well as the RU/s consumed by this particular query. Note how the consumed RU's are obtained by looking at a specific field of the client object, that contains the consumed RU's for the last operation."
   ]
  },
  {
   "cell_type": "code",
   "execution_count": 52,
   "metadata": {},
   "outputs": [],
   "source": [
    "# Auxiliary function that we will use to send a query to a collection\n",
    "def send_query(client, coll_link, query, options=None, show_results=True):\n",
    "    docs = list(client.QueryItems(coll_link, query, options))\n",
    "    for doc in docs:\n",
    "        if show_results:\n",
    "            print(json.dumps(doc, indent=4, sort_keys=True))\n",
    "    print(len(docs), 'items found,', client.last_response_headers['x-ms-request-charge'], 'RU/s consumed')"
   ]
  },
  {
   "cell_type": "code",
   "execution_count": 54,
   "metadata": {},
   "outputs": [
    {
     "name": "stdout",
     "output_type": "stream",
     "text": [
      "1 items found, 2.91 RU/s consumed\n"
     ]
    }
   ],
   "source": [
    "# Simple query\n",
    "customer_id='09d2bb28e9c54bc581492d542789f2ad'\n",
    "query = 'SELECT * FROM customers WHERE customers.id=\\'{0}\\''.format(customer_id)\n",
    "send_query(client, coll_link, query, show_results=False)"
   ]
  },
  {
   "cell_type": "markdown",
   "metadata": {},
   "source": [
    "As you might have seen in the code for send_query, you can send some options along with the query, that will modify the way in which the query is executed. For example, we can enable cross-partition queries (to be able to select all records) and set the maximum item count to 2:"
   ]
  },
  {
   "cell_type": "code",
   "execution_count": 55,
   "metadata": {},
   "outputs": [
    {
     "name": "stdout",
     "output_type": "stream",
     "text": [
      "50 items found, 2.32 RU/s consumed\n"
     ]
    }
   ],
   "source": [
    "# Simple query with options\n",
    "query = 'SELECT * FROM customers'\n",
    "options = {} \n",
    "options['enableCrossPartitionQuery'] = True\n",
    "options['maxItemCount'] = 2\n",
    "send_query(client, coll_link, query, options, show_results=False)"
   ]
  },
  {
   "cell_type": "markdown",
   "metadata": {},
   "source": [
    "More complex queries are supported using the SQL dialect of Cosmos DB:"
   ]
  },
  {
   "cell_type": "code",
   "execution_count": 56,
   "metadata": {},
   "outputs": [
    {
     "name": "stdout",
     "output_type": "stream",
     "text": [
      "5 items found, 3.16 RU/s consumed\n"
     ]
    }
   ],
   "source": [
    "# Query showing projection and filtering\n",
    "query='''SELECT {\n",
    "     \"full-name\": customers.name,\n",
    "     \"contact-details\": {\n",
    "        \"phone\": customers.phone,\n",
    "        \"address\": customers.address\n",
    "    },\n",
    "     \"employment\": {\n",
    "        \"employer\": customers.company,\n",
    "        \"work-email\": customers.email\n",
    "     }\n",
    "} AS person\n",
    "FROM customers\n",
    "WHERE customers.source = \"retail-location\"'''\n",
    "options = {} \n",
    "options['enableCrossPartitionQuery'] = True\n",
    "send_query(client, coll_link, query, options, show_results=False)"
   ]
  },
  {
   "cell_type": "markdown",
   "metadata": {},
   "source": [
    "## Triggers\n",
    "\n",
    "Triggers are activites that can be executed before (\"Pre\" triggers) or after (\"Post\" triggers) data being written or updated in Cosmos DB. Triggers are written in JavaScript, which makes working with JSON very easy. In this repository we have a trigger that adds a 'department' property to a document before adding it to the collection, in case that property did not exist."
   ]
  },
  {
   "cell_type": "code",
   "execution_count": 12,
   "metadata": {},
   "outputs": [
    {
     "name": "stdout",
     "output_type": "stream",
     "text": [
      "function validateDepartmentExists() {\n",
      "    var context = getContext();\n",
      "    var request = context.getRequest();\n",
      "    var newDocument = request.getBody();\n",
      "\n",
      "    if (!newDocument.department) {\n",
      "        newDocument[\"department\"] = \"General\"\n",
      "    }\n",
      "\n",
      "    request.setBody(newDocument);\n",
      "}\n"
     ]
    }
   ],
   "source": [
    "import os\n",
    "trigger_filename = os.path.join(os.getcwd(), 'triggers', 'validateDepartmentExists.js')\n",
    "f=open(trigger_filename, 'r')\n",
    "trigger_code = f.read()\n",
    "print(trigger_code)"
   ]
  },
  {
   "cell_type": "code",
   "execution_count": 58,
   "metadata": {},
   "outputs": [
    {
     "name": "stdout",
     "output_type": "stream",
     "text": [
      "{\n",
      "    \"_etag\": \"\\\"3b001ae8-0000-0d00-0000-5cc6cd050000\\\"\",\n",
      "    \"_rid\": \"PclqAM-oEm0BAAAAAAAAcA==\",\n",
      "    \"_self\": \"dbs/PclqAA==/colls/PclqAM-oEm0=/triggers/PclqAM-oEm0BAAAAAAAAcA==/\",\n",
      "    \"_ts\": 1556532485,\n",
      "    \"body\": \"function validateDepartmentExists() {\\n    var context = getContext();\\n    var request = context.getRequest();\\n    var newDocument = request.getBody();\\n\\n    if (!newDocument.department) {\\n        newDocument[\\\"department\\\"] = \\\"General\\\"\\n    }\\n\\n    request.setBody(newDocument);\\n}\",\n",
      "    \"id\": \"validateDepartmentExists\",\n",
      "    \"triggerOperation\": \"all\",\n",
      "    \"triggerType\": \"pre\"\n",
      "}\n"
     ]
    }
   ],
   "source": [
    "import azure.cosmos.documents as documents\n",
    "\n",
    "# Create new trigger from file\n",
    "def create_trigger(client, coll_link, filename):\n",
    "    with open(filename) as file:\n",
    "        file_contents = file.read()\n",
    "    trigger_name = os.path.splitext(os.path.basename(filename))[0]\n",
    "    trigger_definition = {\n",
    "        'id': trigger_name,\n",
    "        'serverScript': file_contents,\n",
    "        'triggerType': documents.TriggerType.Pre,\n",
    "        'triggerOperation': documents.TriggerOperation.All\n",
    "    }\n",
    "    trigger = client.CreateTrigger(coll_link, trigger_definition)\n",
    "\n",
    "# List existing defined triggers in the collection\n",
    "def query_triggers(client, coll_link):\n",
    "    trigger_query = 'select * from r'\n",
    "    triggers = list(client.QueryTriggers(coll_link, trigger_query))\n",
    "    for trigger in triggers:\n",
    "        print(json.dumps(trigger, indent=4, sort_keys=True))\n",
    "\n",
    "    \n",
    "trigger_filename = os.path.join(os.getcwd(), 'triggers', 'validateDepartmentExists.js')\n",
    "create_trigger(client, coll_link, trigger_filename)\n",
    "query_triggers(client, coll_link)"
   ]
  },
  {
   "cell_type": "markdown",
   "metadata": {},
   "source": [
    "We can now add a new document without the 'department' property, and verify that the property was added by the Trigger. For that we will use a helper function that generates a customer with a random ID:"
   ]
  },
  {
   "cell_type": "code",
   "execution_count": 63,
   "metadata": {},
   "outputs": [
    {
     "name": "stdout",
     "output_type": "stream",
     "text": [
      "We will send an item without the 'department' property:\n",
      "{'firstName': 'Sample', 'lastName': 'Person', 'id': 'i4q2jjd4s0jpgqlf'}\n",
      "And now the item actually created should have the 'department' property, added by the trigger:\n",
      "{\n",
      "    \"_attachments\": \"attachments/\",\n",
      "    \"_etag\": \"\\\"3b0034e8-0000-0d00-0000-5cc6ceae0000\\\"\",\n",
      "    \"_rid\": \"PclqAM-oEm21hB4AAAAAAA==\",\n",
      "    \"_self\": \"dbs/PclqAA==/colls/PclqAM-oEm0=/docs/PclqAM-oEm21hB4AAAAAAA==/\",\n",
      "    \"_ts\": 1556532910,\n",
      "    \"department\": \"General\",\n",
      "    \"firstName\": \"Sample\",\n",
      "    \"id\": \"i4q2jjd4s0jpgqlf\",\n",
      "    \"lastName\": \"Person\"\n",
      "}\n",
      "1 items found, 2.9 RU/s consumed\n"
     ]
    }
   ],
   "source": [
    "import random, string\n",
    "\n",
    "def get_random_item():\n",
    "    random_id = ''.join(random.choices(string.ascii_lowercase + string.digits, k=16))\n",
    "    itemToCreate = {\n",
    "        'firstName': 'Sample',\n",
    "        'lastName': 'Person',\n",
    "        'id': random_id\n",
    "    }\n",
    "    return itemToCreate\n",
    "\n",
    "random_item = get_random_item()\n",
    "print('We will send an item without the \\'department\\' property:')\n",
    "print(random_item)\n",
    "# Note that we do specify the ID of the Pre trigger to execute\n",
    "insert_item(client, coll_link, random_item, pretrigger='validateDepartmentExists')\n",
    "print(\"And now the item actually created should have the \\'department\\' property, added by the trigger:\")\n",
    "query = 'SELECT * FROM customers WHERE customers.id = \\'{0}\\''.format(random_item['id'])\n",
    "send_query(client, coll_link, query)\n"
   ]
  },
  {
   "cell_type": "markdown",
   "metadata": {},
   "source": [
    "## Cleanup\n",
    "\n",
    "In order to save costs you can delete the resource group that was created at the beginning of this exercise via the Azure CLI (or any other method). Please be careful with this command, since it will delete the resource group as well as every resource inside, including the Cosmos DB account and all databases and collections."
   ]
  },
  {
   "cell_type": "code",
   "execution_count": 2,
   "metadata": {},
   "outputs": [],
   "source": [
    "!az group delete -n $rg -y --no-wait"
   ]
  }
 ],
 "metadata": {
  "kernelspec": {
   "display_name": "Python 3",
   "language": "python",
   "name": "python3"
  },
  "language_info": {
   "codemirror_mode": {
    "name": "ipython",
    "version": 3
   },
   "file_extension": ".py",
   "mimetype": "text/x-python",
   "name": "python",
   "nbconvert_exporter": "python",
   "pygments_lexer": "ipython3",
   "version": "3.6.6"
  }
 },
 "nbformat": 4,
 "nbformat_minor": 2
}
